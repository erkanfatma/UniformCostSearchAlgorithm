{
 "cells": [
  {
   "cell_type": "code",
   "execution_count": 1,
   "id": "architectural-spare",
   "metadata": {},
   "outputs": [],
   "source": [
    "from queue import PriorityQueue\n",
    "import pandas as pd\n",
    "import glob"
   ]
  },
  {
   "cell_type": "code",
   "execution_count": 8,
   "id": "applied-aruba",
   "metadata": {},
   "outputs": [
    {
     "name": "stdout",
     "output_type": "stream",
     "text": [
      "Enter your file path (example: D:\\cities.csv): G:\\cities.csv\n",
      "Enter your start point: Ankara\n",
      "Enter your end point: Rize\n",
      "Path found =  ['Ankara', 'Samsun', 'Trabzon', 'Rize'], and Cost = 310\n"
     ]
    }
   ],
   "source": [
    "class CityNotFoundError(Exception):\n",
    "    def __init__(self, city):\n",
    "        print(\"%s does not exist\" % city)\n",
    "\n",
    "class FileNotFoundError(Exception):\n",
    "    def __init__(self, file):\n",
    "        print(\"%s does not exist\" % file)\n",
    "  \n",
    "#Implement this function to read data into an appropriate data structure.\n",
    "def build_graph(path):  \n",
    "    graph = {}\n",
    "\n",
    "    with open(path) as fp: \n",
    "      fieldnames  = fp.readline() \n",
    "      for currentline in fp:\n",
    "          line = currentline\n",
    "          tokens = line.split(',')\n",
    "          node = tokens[0]\n",
    "          graph[node] = {}\n",
    "\n",
    "          for i in range(1, len(tokens)-1, 2):\n",
    "              graph[node][tokens[i]] = int(tokens[i+1])\n",
    " \n",
    "    return graph\n",
    "\n",
    "# Implement this function to perform uniform cost search on the graph.\n",
    "def uniform_cost_search(graph, start, end):\n",
    "    if start not in graph: \n",
    "        raise CityNotFoundError(str(start))\n",
    "        return\n",
    "\n",
    "    if end not in graph:  \n",
    "        raise CityNotFoundError(str(end))\n",
    "        return\n",
    "    q = PriorityQueue()\n",
    "    q.put((0, [start]))\n",
    "\n",
    "    while not q.empty():\n",
    "        node = q.get()  \n",
    "        current = node[1][len(node[1])- 1]\n",
    "\n",
    "        if end in node[1]:\n",
    "          print(\"Path found =  \" + str(node[1]) + \", and Cost = \" + str(node[0])) \n",
    "          break\n",
    "\n",
    "        cost = node[0]\n",
    "        for neighbor in graph[current]:\n",
    "          temp = node[1][:]\n",
    "          temp.append(neighbor)\n",
    "          q.put((cost + graph[current][neighbor], temp))\n",
    "\n",
    "\n",
    "\n",
    "def main(): \n",
    "    filepath =  input(\"Enter your file path (example: D:\\\\cities.csv): \") \n",
    "    # Use this function to search for any files which match your filename\n",
    "    files_present = glob.glob(filepath)\n",
    "    if not files_present:\n",
    "        raise FileNotFoundError(str(filepath))\n",
    "        return\n",
    "        \n",
    "    graph = build_graph(filepath)\n",
    "    begin =  input(\"Enter your start point: \") \n",
    "    finish =  input(\"Enter your end point: \") \n",
    "    uniform_cost_search(graph, begin, finish)\n",
    "\n",
    "# Implement main to call functions with appropriate try-except blocks\n",
    "if __name__ == \"__main__\":\n",
    "    main()"
   ]
  },
  {
   "cell_type": "code",
   "execution_count": null,
   "id": "clinical-being",
   "metadata": {},
   "outputs": [],
   "source": []
  }
 ],
 "metadata": {
  "kernelspec": {
   "display_name": "Python 3",
   "language": "python",
   "name": "python3"
  },
  "language_info": {
   "codemirror_mode": {
    "name": "ipython",
    "version": 3
   },
   "file_extension": ".py",
   "mimetype": "text/x-python",
   "name": "python",
   "nbconvert_exporter": "python",
   "pygments_lexer": "ipython3",
   "version": "3.9.2"
  }
 },
 "nbformat": 4,
 "nbformat_minor": 5
}
